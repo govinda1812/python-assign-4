{
 "cells": [
  {
   "cell_type": "code",
   "execution_count": null,
   "id": "ad0afa33",
   "metadata": {},
   "outputs": [],
   "source": [
    "#1.1 Write a Python Program(with class concepts) to find the area of the triangle using the below\n",
    "#formula.\n",
    "#area = (s*(s-a)*(s-b)*(s-c)) ** 0.5\n",
    "#Function to take the length of the sides of triangle from user should be defined in the parent\n",
    "#class and function to calculate the area should be defined in subclass."
   ]
  },
  {
   "cell_type": "code",
   "execution_count": 6,
   "id": "3a2d5949",
   "metadata": {},
   "outputs": [
    {
     "name": "stdout",
     "output_type": "stream",
     "text": [
      "6\n"
     ]
    }
   ],
   "source": [
    "class aot:\n",
    "    def __init__(self,a,b,c):\n",
    "        self.a=a\n",
    "        self.b=b\n",
    "        self.c=c\n",
    "class form(aot):    \n",
    "    def area(self):\n",
    "        r=(self.a)*(self.b)*(self.c)\n",
    "        print(r)\n",
    "obj=form(1,2,3) \n",
    "obj.area()\n",
    "\n",
    "\n"
   ]
  },
  {
   "cell_type": "code",
   "execution_count": null,
   "id": "2cad36ad",
   "metadata": {},
   "outputs": [],
   "source": [
    "#1.2 Write a function filter_long_words() that takes a list of words and an integer n and returns\n",
    "#the list of words that are longer than n."
   ]
  },
  {
   "cell_type": "code",
   "execution_count": 12,
   "id": "98647206",
   "metadata": {},
   "outputs": [
    {
     "name": "stdout",
     "output_type": "stream",
     "text": [
      "['yuiy']\n"
     ]
    }
   ],
   "source": [
    "def filter_long_words(l1,n):\n",
    "    l2=[]\n",
    "    for i in l1:\n",
    "        if len(i)>n:\n",
    "            l2.append(i)\n",
    "         \n",
    "    return l2\n",
    "l1=['abc','bvc','rty','tyu','hji','yuiy']\n",
    "n=3\n",
    "print(filter_long_words(l1,3))"
   ]
  },
  {
   "cell_type": "code",
   "execution_count": 13,
   "id": "559699ed",
   "metadata": {},
   "outputs": [],
   "source": [
    "#2.1 Write a Python program using function concept that maps list of words into a list of integers\n",
    "#representing the lengths of the corresponding words."
   ]
  },
  {
   "cell_type": "code",
   "execution_count": 14,
   "id": "b5e1a432",
   "metadata": {},
   "outputs": [
    {
     "name": "stdout",
     "output_type": "stream",
     "text": [
      "[3, 7, 5, 10]\n"
     ]
    }
   ],
   "source": [
    "def mapping(l1):\n",
    "    l2=[]\n",
    "    for i in l1:\n",
    "        l2.append(len(i))\n",
    "    return l2\n",
    "l1=['awe','rtghjkk','hjgjj','ghjhjgfhjg']\n",
    "print(mapping(l1))\n",
    "        "
   ]
  },
  {
   "cell_type": "code",
   "execution_count": 15,
   "id": "83481771",
   "metadata": {},
   "outputs": [],
   "source": [
    "#2.2 Write a Python function which takes a character (i.e. a string of length 1) and returns True if\n",
    "#it is a vowel, False otherwise."
   ]
  },
  {
   "cell_type": "code",
   "execution_count": 16,
   "id": "22d6c84d",
   "metadata": {},
   "outputs": [
    {
     "name": "stdout",
     "output_type": "stream",
     "text": [
      "True\n"
     ]
    }
   ],
   "source": [
    "l1=['a','e','i','o','u']\n",
    "def check(s):\n",
    "    if s in l1:\n",
    "        return True\n",
    "    else:\n",
    "        return False\n",
    "print(check('u'))    \n",
    "    "
   ]
  },
  {
   "cell_type": "code",
   "execution_count": null,
   "id": "7102524b",
   "metadata": {},
   "outputs": [],
   "source": []
  }
 ],
 "metadata": {
  "kernelspec": {
   "display_name": "Python 3 (ipykernel)",
   "language": "python",
   "name": "python3"
  },
  "language_info": {
   "codemirror_mode": {
    "name": "ipython",
    "version": 3
   },
   "file_extension": ".py",
   "mimetype": "text/x-python",
   "name": "python",
   "nbconvert_exporter": "python",
   "pygments_lexer": "ipython3",
   "version": "3.9.12"
  }
 },
 "nbformat": 4,
 "nbformat_minor": 5
}
